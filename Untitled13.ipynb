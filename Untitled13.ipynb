{
  "nbformat": 4,
  "nbformat_minor": 0,
  "metadata": {
    "colab": {
      "provenance": []
    },
    "kernelspec": {
      "name": "python3",
      "display_name": "Python 3"
    },
    "language_info": {
      "name": "python"
    }
  },
  "cells": [
    {
      "cell_type": "code",
      "execution_count": 20,
      "metadata": {
        "id": "f6VD1y5ShL0y"
      },
      "outputs": [],
      "source": [
        "import pandas as pd\n",
        "import matplotlib.pyplot as plt"
      ]
    },
    {
      "cell_type": "code",
      "source": [
        "# Read the data from the CSV file into a DataFrame and display the first five rows.\n",
        "df = pd.read_csv('/content/hw4_exams.csv')\n",
        "print(df.head())"
      ],
      "metadata": {
        "colab": {
          "base_uri": "https://localhost:8080/"
        },
        "id": "mU6DqVV6hQtq",
        "outputId": "bba6ea97-cef6-4e45-8f7f-71f20402d8fd"
      },
      "execution_count": 7,
      "outputs": [
        {
          "output_type": "stream",
          "name": "stdout",
          "text": [
            "   gender race/ethnicity parental level of education         lunch  \\\n",
            "0  female        group B           bachelor's degree      standard   \n",
            "1  female        group C                some college      standard   \n",
            "2  female        group B             master's degree      standard   \n",
            "3    male        group A          associate's degree  free/reduced   \n",
            "4    male        group C                some college      standard   \n",
            "\n",
            "  test preparation course  math score  reading score  writing score  \n",
            "0                    none          72             72             74  \n",
            "1               completed          69             90             88  \n",
            "2                    none          90             95             93  \n",
            "3                    none          47             57             44  \n",
            "4                    none          76             78             75  \n"
          ]
        }
      ]
    },
    {
      "cell_type": "code",
      "source": [
        " #Display the basic information for the DataFrame and its columns using the info() method.\n",
        "df.info()"
      ],
      "metadata": {
        "colab": {
          "base_uri": "https://localhost:8080/"
        },
        "id": "czNxOTU8hv7p",
        "outputId": "4c6ee401-c9ca-4547-c02a-d968621dfbb5"
      },
      "execution_count": 8,
      "outputs": [
        {
          "output_type": "stream",
          "name": "stdout",
          "text": [
            "<class 'pandas.core.frame.DataFrame'>\n",
            "RangeIndex: 1000 entries, 0 to 999\n",
            "Data columns (total 8 columns):\n",
            " #   Column                       Non-Null Count  Dtype \n",
            "---  ------                       --------------  ----- \n",
            " 0   gender                       1000 non-null   object\n",
            " 1   race/ethnicity               1000 non-null   object\n",
            " 2   parental level of education  1000 non-null   object\n",
            " 3   lunch                        1000 non-null   object\n",
            " 4   test preparation course      1000 non-null   object\n",
            " 5   math score                   1000 non-null   int64 \n",
            " 6   reading score                1000 non-null   int64 \n",
            " 7   writing score                1000 non-null   int64 \n",
            "dtypes: int64(3), object(5)\n",
            "memory usage: 62.6+ KB\n"
          ]
        }
      ]
    },
    {
      "cell_type": "code",
      "source": [
        "# Display statistical information for the math score, reading score, and writing score columns using the describe() method.\n",
        "print(df[['math score', 'reading score', 'writing score']].describe())"
      ],
      "metadata": {
        "colab": {
          "base_uri": "https://localhost:8080/"
        },
        "id": "ImymXVgjh-SC",
        "outputId": "05e3019e-c8eb-4300-fd6c-9f8449c48445"
      },
      "execution_count": 9,
      "outputs": [
        {
          "output_type": "stream",
          "name": "stdout",
          "text": [
            "       math score  reading score  writing score\n",
            "count  1000.00000    1000.000000    1000.000000\n",
            "mean     66.08900      69.169000      68.054000\n",
            "std      15.16308      14.600192      15.195657\n",
            "min       0.00000      17.000000      10.000000\n",
            "25%      57.00000      59.000000      57.750000\n",
            "50%      66.00000      70.000000      69.000000\n",
            "75%      77.00000      79.000000      79.000000\n",
            "max     100.00000     100.000000     100.000000\n"
          ]
        }
      ]
    },
    {
      "cell_type": "code",
      "source": [
        "#4. Group the data by the race/ethnicity column and display the mean scores.\n",
        "mean_scores = df.groupby('race/ethnicity')[['math score', 'reading score', 'writing score']].mean()\n",
        "print(mean_scores)"
      ],
      "metadata": {
        "colab": {
          "base_uri": "https://localhost:8080/"
        },
        "id": "xda5HW6wihFf",
        "outputId": "828f7e9e-fa6c-46b4-b35c-82e56a766a6d"
      },
      "execution_count": 10,
      "outputs": [
        {
          "output_type": "stream",
          "name": "stdout",
          "text": [
            "                math score  reading score  writing score\n",
            "race/ethnicity                                          \n",
            "group A          61.629213      64.674157      62.674157\n",
            "group B          63.452632      67.352632      65.600000\n",
            "group C          64.463950      69.103448      67.827586\n",
            "group D          67.362595      70.030534      70.145038\n",
            "group E          73.821429      73.028571      71.407143\n"
          ]
        }
      ]
    },
    {
      "cell_type": "code",
      "source": [
        "#. Display a single column as a DataFrame with bracket notation.\n",
        "math_score_df = df[['math score']]\n",
        "print(math_score_df)"
      ],
      "metadata": {
        "colab": {
          "base_uri": "https://localhost:8080/"
        },
        "id": "jGmwNZz9izL6",
        "outputId": "5601a7dc-3c13-4f8c-f28f-9577c041ee1d"
      },
      "execution_count": 11,
      "outputs": [
        {
          "output_type": "stream",
          "name": "stdout",
          "text": [
            "     math score\n",
            "0            72\n",
            "1            69\n",
            "2            90\n",
            "3            47\n",
            "4            76\n",
            "..          ...\n",
            "995          88\n",
            "996          62\n",
            "997          59\n",
            "998          68\n",
            "999          77\n",
            "\n",
            "[1000 rows x 1 columns]\n"
          ]
        }
      ]
    },
    {
      "cell_type": "code",
      "source": [
        "#. Display a single column as a Series with bracket notation.\n",
        "math_score_series = df['math score']\n",
        "print(math_score_series)"
      ],
      "metadata": {
        "colab": {
          "base_uri": "https://localhost:8080/"
        },
        "id": "t0t1T6OCjKOt",
        "outputId": "7010d024-1a3b-4c9f-a810-38c84531f7b1"
      },
      "execution_count": 12,
      "outputs": [
        {
          "output_type": "stream",
          "name": "stdout",
          "text": [
            "0      72\n",
            "1      69\n",
            "2      90\n",
            "3      47\n",
            "4      76\n",
            "       ..\n",
            "995    88\n",
            "996    62\n",
            "997    59\n",
            "998    68\n",
            "999    77\n",
            "Name: math score, Length: 1000, dtype: int64\n"
          ]
        }
      ]
    },
    {
      "cell_type": "code",
      "source": [
        "#7. Display a single column as a Series with dot notation.\n",
        "gender_series = df.gender\n",
        "print(gender_series)"
      ],
      "metadata": {
        "colab": {
          "base_uri": "https://localhost:8080/"
        },
        "id": "uuYu7UbQjgjl",
        "outputId": "a3566898-17c2-42ce-cc1f-29ecd7dac685"
      },
      "execution_count": 17,
      "outputs": [
        {
          "output_type": "stream",
          "name": "stdout",
          "text": [
            "0      female\n",
            "1      female\n",
            "2      female\n",
            "3        male\n",
            "4        male\n",
            "        ...  \n",
            "995    female\n",
            "996      male\n",
            "997    female\n",
            "998    female\n",
            "999    female\n",
            "Name: gender, Length: 1000, dtype: object\n"
          ]
        }
      ]
    },
    {
      "cell_type": "code",
      "source": [
        "#8. Display only rows for females with a math score greater than or equal to 90.\n",
        "filtered_df = df[(df['gender'] == 'female') & (df['math score'] >= 90)]\n",
        "\n",
        "print(filtered_df)"
      ],
      "metadata": {
        "colab": {
          "base_uri": "https://localhost:8080/"
        },
        "id": "gUmVmBbukjMa",
        "outputId": "63146c74-afe9-439c-cead-c138c6a51fc1"
      },
      "execution_count": 18,
      "outputs": [
        {
          "output_type": "stream",
          "name": "stdout",
          "text": [
            "     gender race/ethnicity parental level of education         lunch  \\\n",
            "2    female        group B             master's degree      standard   \n",
            "114  female        group E           bachelor's degree      standard   \n",
            "165  female        group C           bachelor's degree      standard   \n",
            "179  female        group D            some high school      standard   \n",
            "263  female        group E                 high school      standard   \n",
            "451  female        group E                some college      standard   \n",
            "458  female        group E           bachelor's degree      standard   \n",
            "474  female        group B          associate's degree      standard   \n",
            "501  female        group B          associate's degree      standard   \n",
            "503  female        group E          associate's degree      standard   \n",
            "521  female        group C          associate's degree      standard   \n",
            "546  female        group A            some high school      standard   \n",
            "566  female        group E           bachelor's degree  free/reduced   \n",
            "594  female        group C           bachelor's degree      standard   \n",
            "685  female        group E             master's degree      standard   \n",
            "712  female        group D                some college      standard   \n",
            "717  female        group C          associate's degree      standard   \n",
            "855  female        group B           bachelor's degree      standard   \n",
            "886  female        group E          associate's degree      standard   \n",
            "903  female        group D           bachelor's degree  free/reduced   \n",
            "957  female        group D             master's degree      standard   \n",
            "962  female        group E          associate's degree      standard   \n",
            "979  female        group C          associate's degree      standard   \n",
            "\n",
            "    test preparation course  math score  reading score  writing score  \n",
            "2                      none          90             95             93  \n",
            "114               completed          99            100            100  \n",
            "165               completed          96            100            100  \n",
            "179               completed          97            100            100  \n",
            "263                    none          99             93             90  \n",
            "451                    none         100             92             97  \n",
            "458                    none         100            100            100  \n",
            "474               completed          90             90             91  \n",
            "501               completed          94             87             92  \n",
            "503               completed          95             89             92  \n",
            "521                    none          91             86             84  \n",
            "546               completed          92            100             97  \n",
            "566               completed          92            100            100  \n",
            "594               completed          92            100             99  \n",
            "685               completed          94             99            100  \n",
            "712                    none          98            100             99  \n",
            "717               completed          96             96             99  \n",
            "855                    none          97             97             96  \n",
            "886               completed          93            100             95  \n",
            "903               completed          93            100            100  \n",
            "957                    none          92            100            100  \n",
            "962                    none         100            100            100  \n",
            "979                    none          91             95             94  \n"
          ]
        }
      ]
    },
    {
      "cell_type": "code",
      "source": [
        "#9. Use the pandas plot() method to create a box plot.\n",
        "df[['math score', 'reading score', 'writing score']].plot(kind='box', title='Distribution of Scores')\n",
        "\n",
        "plt.show()\n"
      ],
      "metadata": {
        "colab": {
          "base_uri": "https://localhost:8080/",
          "height": 452
        },
        "id": "P9IIczTPk9XG",
        "outputId": "1d8975c6-53ca-4516-b11d-fb1ae7403352"
      },
      "execution_count": 22,
      "outputs": [
        {
          "output_type": "display_data",
          "data": {
            "text/plain": [
              "<Figure size 640x480 with 1 Axes>"
            ],
            "image/png": "[encoded data removed]"
          },
          "metadata": {}
        }
      ]
    }
  ]
}